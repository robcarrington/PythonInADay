{
 "cells": [
  {
   "cell_type": "markdown",
   "metadata": {},
   "source": [
    "# Python in a Day\n",
    "### *Session \\#2*\n",
    "---\n",
    "\n",
    "### Helpful shortcuts\n",
    "---\n",
    "\n",
    "**SHIFT** + **ENTER** ----> Execute Cell\n",
    "\n",
    "**TAB** ----> See autocomplete options\n",
    "\n",
    "**ESC** then **b** ----> Create Cell \n",
    "\n",
    "**ESC** then **dd** ----> Delete Cell\n",
    "\n",
    "**\\[python expression\\]?** ---> Explanation of that Python expression\n",
    "\n",
    "**ESC** then **m** then __ENTER__ ----> Switch to Markdown mode"
   ]
  },
  {
   "cell_type": "markdown",
   "metadata": {},
   "source": [
    "## I. Defining Functions\n",
    "\n",
    "### Warm Ups\n",
    "*Type the given code into the cell below*\n",
    "\n",
    "---\n",
    "**Define a function**: \n",
    "```python\n",
    "def greet_me(my_name):\n",
    "    greeting = \"hello \" + my_name\n",
    "    return greeting\n",
    "```"
   ]
  },
  {
   "cell_type": "code",
   "execution_count": null,
   "metadata": {},
   "outputs": [],
   "source": []
  },
  {
   "cell_type": "markdown",
   "metadata": {},
   "source": [
    "**Function with multiple parameters:**\n",
    "    \n",
    "```python\n",
    "def greet_us(me, you):\n",
    "    answer = \"hello \" + me + \" and \" + you\n",
    "    return answer\n",
    "```"
   ]
  },
  {
   "cell_type": "code",
   "execution_count": null,
   "metadata": {},
   "outputs": [],
   "source": []
  },
  {
   "cell_type": "markdown",
   "metadata": {},
   "source": [
    "### Bonus troubleshooting checklist\n",
    "\n",
    "- Start with `def`\n",
    "- Parameter names are arbitrary labels (like variables), not strings or numbers\n",
    "- Parameters separated by commas\n",
    "- Colon at the end of first line\n",
    "- Code inside the function is indented\n",
    "- Only one `return` at the very end\n",
    "- Defining isn't the same as running. Still need to call() your function."
   ]
  },
  {
   "cell_type": "markdown",
   "metadata": {},
   "source": [
    "### Exercises\n",
    "---\n",
    "**1. Create a function** `german_greet()` **that will greet you in German, using your name as input.** \n",
    "\n",
    "Hint: \"Guten tag\" is how you greet a friend in German"
   ]
  },
  {
   "cell_type": "code",
   "execution_count": null,
   "metadata": {},
   "outputs": [],
   "source": [
    "def german_greet(name):\n",
    "    return \"Guten tag \" + name"
   ]
  },
  {
   "cell_type": "markdown",
   "metadata": {},
   "source": [
    "**2. Write a function** `word_mirror()` **that takes a string, and returns the string *plus* the `|` sign *plus* that string reversed**\n",
    "\n",
    "**For example:** `\"Tower\"` **would become** `\"Tower|rewoT\"`"
   ]
  },
  {
   "cell_type": "code",
   "execution_count": null,
   "metadata": {},
   "outputs": [],
   "source": [
    "def word_mirror(word):\n",
    "    return word + \"|\" + word[::-1]"
   ]
  },
  {
   "cell_type": "markdown",
   "metadata": {},
   "source": [
    "**3. A Madlib is a story where certain words are left out, and in their place you inject suggestions from a friend.** \n",
    "\n",
    "**Create a Madlib function that takes two nouns,** `noun1` **and** `noun2`, **and returns a sentence that uses them!** "
   ]
  },
  {
   "cell_type": "code",
   "execution_count": null,
   "metadata": {},
   "outputs": [],
   "source": [
    "def madlib(noun1, noun2):\n",
    "    return \"I went to the \" + noun1 + \" store and bought a \" + noun2 "
   ]
  },
  {
   "cell_type": "markdown",
   "metadata": {},
   "source": [
    "**4. Write a function** `hide_ssn()` **to mask strings of Social Security numbers, returning five asterix and the last four digits.** \n",
    "\n",
    "**For example,** `hide_ssn(\"123456789\")` **would return** `\"*****6789\"`\n",
    "\n",
    "Hint: Use a slice, not `.replace()`"
   ]
  },
  {
   "cell_type": "code",
   "execution_count": null,
   "metadata": {},
   "outputs": [],
   "source": [
    "def hide_ssn(ssn):\n",
    "    return \"*****\" + str(ssn)[:-4]"
   ]
  },
  {
   "cell_type": "markdown",
   "metadata": {},
   "source": [
    "### Extra Credit\n",
    "---\n",
    "**1. Strings have a** `.split()` **method which will break up the string on spaces and return a list.**\n",
    "\n",
    "**For example,** `\"I am groot\".split()` **would return:** `[\"I\", \"am\", \"groot\"]`\n",
    "\n",
    "**Use the split method to grab the zipcode out of the address below.**\n",
    "\n",
    "Hint: You can use index syntax, e.g. [1], to fetch elements from a list."
   ]
  },
  {
   "cell_type": "code",
   "execution_count": null,
   "metadata": {},
   "outputs": [],
   "source": [
    "address = \"1600 Pennsylvania Ave NW, Washington, DC 20500\"\n",
    "\n",
    "address.split()[-1]"
   ]
  },
  {
   "cell_type": "markdown",
   "metadata": {},
   "source": [
    "## II. Lists\n",
    "### Warm Ups\n",
    "*Type the given code into the cell below*\n",
    "\n",
    "---\n",
    "**List literal:** `evil_jedi = [\"sidious\", \"vader\", \"maul\"]`"
   ]
  },
  {
   "cell_type": "code",
   "execution_count": 1,
   "metadata": {},
   "outputs": [],
   "source": [
    "evil_jedi = [\"sidious\", \"vader\", \"maul\"]"
   ]
  },
  {
   "cell_type": "markdown",
   "metadata": {},
   "source": [
    "**Append**: `evil_jedi.append(\"dooku\")`"
   ]
  },
  {
   "cell_type": "code",
   "execution_count": null,
   "metadata": {},
   "outputs": [],
   "source": []
  },
  {
   "cell_type": "markdown",
   "metadata": {},
   "source": [
    "**Insert:** `evil_jedi.insert(2, \"rylo ken\")` "
   ]
  },
  {
   "cell_type": "code",
   "execution_count": null,
   "metadata": {},
   "outputs": [],
   "source": []
  },
  {
   "cell_type": "markdown",
   "metadata": {},
   "source": [
    "**Replace element at index:** `evil_jedi[1] = \"anakin\"`"
   ]
  },
  {
   "cell_type": "code",
   "execution_count": null,
   "metadata": {},
   "outputs": [],
   "source": []
  },
  {
   "cell_type": "markdown",
   "metadata": {},
   "source": [
    "**Pop:** `evil_jedi.pop()`"
   ]
  },
  {
   "cell_type": "code",
   "execution_count": null,
   "metadata": {},
   "outputs": [],
   "source": []
  },
  {
   "cell_type": "markdown",
   "metadata": {},
   "source": [
    "### Exercises\n",
    "---\n",
    "\n",
    "**1. Use list methods to turn the following list into the integers 1 to 9. See how few lines you can use.**"
   ]
  },
  {
   "cell_type": "code",
   "execution_count": 39,
   "metadata": {},
   "outputs": [
    {
     "data": {
      "text/plain": [
       "[1, 2, 3, 4, 5, 6, 7, 8, 9]"
      ]
     },
     "execution_count": 39,
     "metadata": {},
     "output_type": "execute_result"
    }
   ],
   "source": [
    "my_list = [1, \"two\", 3, 4, 6, 5, 9]\n",
    "\n",
    "my_list[1] = 2\n",
    "my_list[4:10] = [5, 6, 7, 8, 9]\n",
    "my_list"
   ]
  },
  {
   "cell_type": "markdown",
   "metadata": {},
   "source": [
    "**2. Write a function that, when given a list, reverses it and adds a** `\"!\"` **to both the beginning and end.**"
   ]
  },
  {
   "cell_type": "code",
   "execution_count": 41,
   "metadata": {},
   "outputs": [
    {
     "data": {
      "text/plain": [
       "['!', 3, 2, 1, '!']"
      ]
     },
     "execution_count": 41,
     "metadata": {},
     "output_type": "execute_result"
    }
   ],
   "source": [
    "def exciting(my_list):\n",
    "    new_list = my_list[::-1]\n",
    "    new_list.insert(0, \"!\")\n",
    "    new_list.append(\"!\")\n",
    "    return new_list\n",
    "\n",
    "exciting([1,2,3])"
   ]
  },
  {
   "cell_type": "markdown",
   "metadata": {},
   "source": [
    "**3. Write a function** `mark_done()` **that takes a list and an integer. The function should replace the item at the integer's location with** `\"DONE\"`, **then return the list.**\n",
    "\n",
    "For example, `mark_done([\"milk\", \"eggs\", \"cookies\"], 0)` should return `[\"DONE\", \"eggs\", \"cookies\"]`"
   ]
  },
  {
   "cell_type": "code",
   "execution_count": 45,
   "metadata": {},
   "outputs": [],
   "source": [
    "def mark_done(my_list, i):\n",
    "    my_list[i] = \"DONE\"\n",
    "    return my_list"
   ]
  },
  {
   "cell_type": "markdown",
   "metadata": {},
   "source": [
    "## Extra Credit\n",
    "---\n",
    "\n",
    "**1. Write a function** `scratch_done()` **that takes a list and an integer. The function should replace the item at the integer's location with X's over every letter.**\n",
    "\n",
    "**For example,** `scratch_done([\"milk\", \"eggs\", \"cookies\"], 0)` should return `[\"XXXX\", \"eggs\", \"cookies\"]`"
   ]
  },
  {
   "cell_type": "code",
   "execution_count": null,
   "metadata": {},
   "outputs": [],
   "source": [
    "def scratch_done(my_list, index):\n",
    "    num_of_x = len(str(my_list[index]))\n",
    "    my_list[index] = \"XXXXXXXXXXXX\"[:num_of_x]\n",
    "    return my_list"
   ]
  },
  {
   "cell_type": "markdown",
   "metadata": {},
   "source": [
    "### Exercises\n",
    "---\n",
    "**1. Create a dictionary literal with the information on your driver's license. It should contain keys for** `name`, `height`, **and** `eye_color`."
   ]
  },
  {
   "cell_type": "code",
   "execution_count": 7,
   "metadata": {},
   "outputs": [],
   "source": [
    "license = {\"name\": \"rob\", \"height\": \"6'\", \"eye_color\": \"brown\"}"
   ]
  },
  {
   "cell_type": "markdown",
   "metadata": {},
   "source": [
    "**2. Add** `city` **and** `state` **as additional keys in your dictionary.**"
   ]
  },
  {
   "cell_type": "code",
   "execution_count": 8,
   "metadata": {},
   "outputs": [],
   "source": [
    "license['city'] = \"Brooklyn\"\n",
    "license['state'] = \"NY\""
   ]
  },
  {
   "cell_type": "markdown",
   "metadata": {},
   "source": [
    "### Exercises\n",
    "---\n",
    "**1. Create a dictionary literal with the information on your driver's license. It should contain keys for** `name`, `height`, **and** `eye_color`."
   ]
  },
  {
   "cell_type": "code",
   "execution_count": 7,
   "metadata": {},
   "outputs": [],
   "source": [
    "license = {\"name\": \"rob\", \"height\": \"6'\", \"eye_color\": \"brown\"}"
   ]
  },
  {
   "cell_type": "markdown",
   "metadata": {},
   "source": [
    "**2. Add** `city` **and** `state` **as additional keys in your dictionary.**"
   ]
  },
  {
   "cell_type": "code",
   "execution_count": 8,
   "metadata": {},
   "outputs": [],
   "source": [
    "license['city'] = \"Brooklyn\"\n",
    "license['state'] = \"NY\""
   ]
  },
  {
   "cell_type": "markdown",
   "metadata": {},
   "source": [
    "**3. Fetch your** `height` **from the dictionary**"
   ]
  },
  {
   "cell_type": "code",
   "execution_count": null,
   "metadata": {},
   "outputs": [],
   "source": [
    "license['height']"
   ]
  },
  {
   "cell_type": "markdown",
   "metadata": {},
   "source": [
    "**4. Dictionaries and lists can be values inside a dictionary too! API data is frequently nested this way, so let's practice navigating through a mock API response.**\n",
    "\n",
    "**Can you fetch the CEO of AAPL from the response?**\n",
    "\n",
    "Hint: To drill down, use the keys of the outer dictionary and work inward. Eg. `api_response[\"MSFT\"][\"companyName\"]` will first drill into the Microsoft dictionary, then grab the value of companyName."
   ]
  },
  {
   "cell_type": "code",
   "execution_count": 11,
   "metadata": {},
   "outputs": [
    {
     "data": {
      "text/plain": [
       "'Tim Cook'"
      ]
     },
     "execution_count": 11,
     "metadata": {},
     "output_type": "execute_result"
    }
   ],
   "source": [
    "api_response = {\"AAPL\": {\"companyName\": \"Apple Inc.\",\n",
    "                         \"CEO\": \"Tim Cook\",\n",
    "                         \"tags\": [\"technology\", \"hardware\"]\n",
    "                        },\n",
    "                \"MSFT\": {\"companyName\": \"Microsoft Corporation\",\n",
    "                         \"CEO\": \"Satya Nadella\",\n",
    "                         \"tags\": [\"technology\", \"software\"]\n",
    "                         }\n",
    "                }\n",
    "               \n",
    "# WRITE YOUR CODE DOWN HERE\n",
    "api_response[\"AAPL\"][\"CEO\"]"
   ]
  },
  {
   "cell_type": "markdown",
   "metadata": {},
   "source": [
    "**5. Can you grab the tags for Microsoft from the same response? What about just the last tag?**"
   ]
  },
  {
   "cell_type": "code",
   "execution_count": null,
   "metadata": {},
   "outputs": [],
   "source": [
    "api_response['MSFT']['tags'][-1]"
   ]
  }
 ],
 "metadata": {
  "kernelspec": {
   "display_name": "Python 3",
   "language": "python",
   "name": "python3"
  },
  "language_info": {
   "codemirror_mode": {
    "name": "ipython",
    "version": 3
   },
   "file_extension": ".py",
   "mimetype": "text/x-python",
   "name": "python",
   "nbconvert_exporter": "python",
   "pygments_lexer": "ipython3",
   "version": "3.6.8"
  }
 },
 "nbformat": 4,
 "nbformat_minor": 2
}
